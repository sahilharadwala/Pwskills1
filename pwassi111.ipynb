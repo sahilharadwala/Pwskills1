{
 "cells": [
  {
   "cell_type": "markdown",
   "id": "7f7aca8b-c25d-417b-ab7d-b29d49324aa4",
   "metadata": {},
   "source": [
    "Q-1\n",
    "\n",
    "A for loop is best used when you know exactly how many times you want to repeat a block of code, like iterating through a list of items, while a while loop is better when you need to continue looping until a specific condition becomes false, where the number of iterations might not be known beforehand\n",
    "fruits = [\"apple\", \"banana\", \"orange\"] \n",
    "\n",
    "\n",
    "\n",
    "for fruit in fruits:\n",
    "\n",
    "    print(fruit) \n",
    "\n",
    "this loop will print each fruit in the \"fruits\" list because the loop automatically iterates through each element of the list\n",
    "user_input = \"\" \n",
    "\n",
    "\n",
    "\n",
    "while user_input != \"exit\":\n",
    "\n",
    "    user_input = input(\"Enter a command (or 'exit' to quit): \")\n",
    "\n",
    "    print(\"You entered:\", user_input)\n",
    "\n"
   ]
  },
  {
   "cell_type": "code",
   "execution_count": 1,
   "id": "ef551e91-6e9a-413c-8691-5ba6aaab83d9",
   "metadata": {},
   "outputs": [
    {
     "name": "stdout",
     "output_type": "stream",
     "text": [
      "19728190\n",
      "39916799\n"
     ]
    }
   ],
   "source": [
    "#Q-2\n",
    "sum=0\n",
    "n=10\n",
    "for i in range (n+1):\n",
    "    sum+=i\n",
    "    sum*=i\n",
    "print(sum)\n",
    "\n",
    "count=10\n",
    "total=0\n",
    "while 0<count:\n",
    "    total+=count\n",
    "    total*=count\n",
    "    count-=1\n",
    "print(total)\n"
   ]
  },
  {
   "cell_type": "code",
   "execution_count": 2,
   "id": "5574ed62-b01a-4285-bbe3-9a7a2421809d",
   "metadata": {},
   "outputs": [
    {
     "name": "stdin",
     "output_type": "stream",
     "text": [
      "Please enter the value 12\n"
     ]
    },
    {
     "name": "stdout",
     "output_type": "stream",
     "text": [
      "4.5 will charged 54.0\n"
     ]
    }
   ],
   "source": [
    "# Q--3\n",
    "n=int(input(\"Please enter the value\"))\n",
    "if n<=100:\n",
    "    print(\"4.5 will charged\",n*4.5)\n",
    "elif n<=200 :\n",
    "    s=100*4.5+(n-100)*6\n",
    "    print(\"6 will charged \",s) \n",
    "elif n<=300 :\n",
    "    s=100*4.5+100*6+(n-200)*10\n",
    "    print(\"10 will charged\",s)\n",
    "\n",
    "else :\n",
    "    s=(100*4.5+100*6+100*10)+(n-300)*20\n",
    "    print(\"20 will charged\",s)\n",
    "\n"
   ]
  },
  {
   "cell_type": "code",
   "execution_count": null,
   "id": "622cb6b0-ed19-43c3-8a4f-8ca4f9884489",
   "metadata": {},
   "outputs": [],
   "source": [
    "#Q-4\n",
    "result_for = []\n",
    "i=1\n",
    "numbers = list(range(1, 101))\n",
    "\n",
    "for num in numbers:\n",
    "    cube = num ** 3\n",
    "    if cube % 4 == 0 and cube % 5 == 0:\n",
    "        result_for.append(num)\n",
    "#---while loop--------------------------------------------\n",
    "print(\"Using for loop:\",result_for)\n",
    "\n",
    "numbers = list(range(1,101))\n",
    "cubes = []\n",
    "i = 1\n",
    "while i < len(numbers):\n",
    "    cube=numbers[i] ** 3\n",
    "    if cube%4==0 and cube%5==0 :\n",
    "        cubes.append(i)\n",
    "     i += 1\n",
    "print(\"Original list:\", numbers)\n",
    "print(\"Cubes of the list:\", cubes)\n",
    "\n",
    "\n"
   ]
  },
  {
   "cell_type": "code",
   "execution_count": 19,
   "id": "ba11a011-a4e7-4465-b520-b15060943475",
   "metadata": {},
   "outputs": [
    {
     "name": "stdout",
     "output_type": "stream",
     "text": [
      "vowels in list ['I', 'a', 'o', 'e', 'o', 'e', 'a', 'a', 'a', 'i', 'e', 'i']\n",
      "occurence 12\n"
     ]
    }
   ],
   "source": [
    "#Q--5\n",
    "l1=['a','e','i','o','u','A','E','I','O','U']\n",
    "st = list(\"I want to become a data scientist\")\n",
    "def vowels(x):\n",
    "    l1=('a','e','i','o','u','A','E','I','O','U')\n",
    "    return x in l1\n",
    "a=list(filter(vowels,st))\n",
    "print(\"vowels in list\",a)\n",
    "print(\"occurence\",len(a))"
   ]
  },
  {
   "cell_type": "code",
   "execution_count": null,
   "id": "3ef4f5dc-f62e-42ef-96f2-ea3f3e94a523",
   "metadata": {},
   "outputs": [],
   "source": []
  }
 ],
 "metadata": {
  "kernelspec": {
   "display_name": "Python 3 (ipykernel)",
   "language": "python",
   "name": "python3"
  },
  "language_info": {
   "codemirror_mode": {
    "name": "ipython",
    "version": 3
   },
   "file_extension": ".py",
   "mimetype": "text/x-python",
   "name": "python",
   "nbconvert_exporter": "python",
   "pygments_lexer": "ipython3",
   "version": "3.12.7"
  }
 },
 "nbformat": 4,
 "nbformat_minor": 5
}
